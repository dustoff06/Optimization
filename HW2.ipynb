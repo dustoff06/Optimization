{
 "cells": [
  {
   "cell_type": "markdown",
   "id": "limiting-montana",
   "metadata": {},
   "source": [
    "# Solution"
   ]
  },
  {
   "cell_type": "code",
   "execution_count": 123,
   "id": "swiss-roman",
   "metadata": {},
   "outputs": [
    {
     "name": "stdout",
     "output_type": "stream",
     "text": [
      "Gurobi Optimizer version 9.1.2 build v9.1.2rc0 (win64)\n",
      "Thread count: 10 physical cores, 20 logical processors, using up to 20 threads\n",
      "Optimize a model with 6 rows, 3 columns and 10 nonzeros\n",
      "Model fingerprint: 0xa1b8a52a\n",
      "Coefficient statistics:\n",
      "  Matrix range     [6e-01, 3e+00]\n",
      "  Objective range  [5e+01, 4e+02]\n",
      "  Bounds range     [0e+00, 0e+00]\n",
      "  RHS range        [3e+01, 3e+02]\n",
      "Presolve removed 3 rows and 0 columns\n",
      "Presolve time: 0.00s\n",
      "Presolved: 3 rows, 3 columns, 7 nonzeros\n",
      "\n",
      "Iteration    Objective       Primal Inf.    Dual Inf.      Time\n",
      "       0    3.3127727e+04   1.305018e+00   0.000000e+00      0s\n",
      "       1    3.2540000e+04   0.000000e+00   0.000000e+00      0s\n",
      "\n",
      "Solved in 1 iterations and 0.00 seconds\n",
      "Optimal objective  3.254000000e+04\n"
     ]
    }
   ],
   "source": [
    "#I recommend Gurobi or lpSolve.  https://www.gurobi.com/gurobi-and-anaconda-for-windows/\n",
    "\n",
    "import gurobipy as gp\n",
    "from gurobipy import GRB\n",
    "import numpy as np\n",
    "import scipy.sparse as sp\n",
    "\n",
    "# Create a new model\n",
    "m = gp.Model(\"matrix1\")\n",
    "# Set objective\n",
    "obj = np.asarray([300,400,-50])\n",
    "# Create variables\n",
    "x = m.addMVar(shape=3, vtype=GRB.CONTINUOUS, name=\"x\")\n",
    "m.setObjective(obj @ x, GRB.MAXIMIZE)\n",
    "A= np.asarray( \n",
    "     [[.8,1,-1],\n",
    "      [0,0,1],\n",
    "      [.6,.7,0],\n",
    "      [2,3,0], \n",
    "      [-1,0,0], \n",
    "      [0,-1,0]])\n",
    "# Build rhs vector\n",
    "b =np.asarray([0,98,73,260,-88,-26])\n",
    "# Add constraints\n",
    "m.addConstr(A @ x <= b)\n",
    "# Optimize model\n",
    "m.optimize()"
   ]
  },
  {
   "cell_type": "markdown",
   "id": "greater-engine",
   "metadata": {},
   "source": [
    "# Solution and Sensitivity"
   ]
  },
  {
   "cell_type": "code",
   "execution_count": 122,
   "id": "greenhouse-contemporary",
   "metadata": {},
   "outputs": [
    {
     "name": "stdout",
     "output_type": "stream",
     "text": [
      "Objective Value: 32540.0\n",
      "Solution: [88.  27.6 98. ]\n",
      "Reduced Costs: [0. 0. 0.]\n",
      "Lower Limits OF: [ -inf  375. -400.]\n",
      "Upper Limits OF: [320.  inf  inf]\n",
      "Slack / Surplus: [0.   0.   0.88 1.2  0.   1.6 ]\n",
      "Duals: [400.0, 350.0, 0.0, 0.0, 20.0, 0.0]\n",
      "RHS Lower Limit: [ -1.6   96.4   72.12 258.8  -90.   -27.6 ]\n",
      "RHS Upper Limit: [  0.4  98.4   inf   inf -85.    inf]\n"
     ]
    }
   ],
   "source": [
    "print('Objective Value:', m.objVal)\n",
    "print('Solution:',x.X)\n",
    "print('Reduced Costs:', x.RC)\n",
    "print('Lower Limits OF:', x.SAObjLow)\n",
    "print('Upper Limits OF:', x.SAObjUp)\n",
    "print('Slack / Surplus:', np.round(m.slack,3))\n",
    "print('Duals:', m.pi)\n",
    "print('RHS Lower Limit:', np.round(m.SARHSLow,3))\n",
    "print('RHS Upper Limit:', np.round(m.SARHSUp,3))"
   ]
  },
  {
   "cell_type": "code",
   "execution_count": null,
   "id": "unavailable-eligibility",
   "metadata": {},
   "outputs": [],
   "source": []
  }
 ],
 "metadata": {
  "kernelspec": {
   "display_name": "Python 3",
   "language": "python",
   "name": "python3"
  },
  "language_info": {
   "codemirror_mode": {
    "name": "ipython",
    "version": 3
   },
   "file_extension": ".py",
   "mimetype": "text/x-python",
   "name": "python",
   "nbconvert_exporter": "python",
   "pygments_lexer": "ipython3",
   "version": "3.7.10"
  }
 },
 "nbformat": 4,
 "nbformat_minor": 5
}
